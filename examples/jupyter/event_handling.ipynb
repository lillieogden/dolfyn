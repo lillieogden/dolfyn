{
 "cells": [
  {
   "cell_type": "code",
   "execution_count": 1,
   "metadata": {
    "collapsed": false
   },
   "outputs": [],
   "source": [
    "import numpy as np\n",
    "import matplotlib"
   ]
  },
  {
   "cell_type": "code",
   "execution_count": 2,
   "metadata": {
    "collapsed": false
   },
   "outputs": [],
   "source": [
    "matplotlib.use(\"Qt5Agg\")\n",
    "from PyQt5 import QtCore\n",
    "from PyQt5.QtWidgets import QApplication, QMainWindow, QMenu, QVBoxLayout, QSizePolicy, QMessageBox, QWidget"
   ]
  },
  {
   "cell_type": "code",
   "execution_count": 3,
   "metadata": {
    "collapsed": false
   },
   "outputs": [],
   "source": [
    "from matplotlib.backends.backend_qt5agg import FigureCanvasQTAgg as FigureCanvas\n",
    "import matplotlib.pyplot as plt\n",
    "import matplotlib.ticker as mtick"
   ]
  },
  {
   "cell_type": "code",
   "execution_count": 4,
   "metadata": {
    "collapsed": true
   },
   "outputs": [],
   "source": [
    "import os.path\n",
    "import dolfyn.adv.api as avm\n",
    "import dolfyn.adv.turbulence as turb"
   ]
  },
  {
   "cell_type": "code",
   "execution_count": 5,
   "metadata": {
    "collapsed": true
   },
   "outputs": [],
   "source": [
    "fname = '/Users/lillie/turbulence_data/raw_data/TTM_NREL03_May2015'"
   ]
  },
  {
   "cell_type": "code",
   "execution_count": 6,
   "metadata": {
    "collapsed": false
   },
   "outputs": [
    {
     "name": "stdout",
     "output_type": "stream",
     "text": [
      "CPU times: user 1.43 s, sys: 190 ms, total: 1.62 s\n",
      "Wall time: 1.62 s\n"
     ]
    }
   ],
   "source": [
    "%%time\n",
    "if os.path.isfile(fname + '.h5'):\n",
    "    dat_raw = avm.load(fname + '.h5')\n",
    "else:\n",
    "    dat_raw = avm.read_nortek(fname + '.VEC')\n",
    "    dat_raw.save(fname + '.h5')   "
   ]
  },
  {
   "cell_type": "code",
   "execution_count": 25,
   "metadata": {
    "collapsed": true
   },
   "outputs": [],
   "source": [
    "def onpick(event):\n",
    "    ind = event.ind\n",
    "    print('onpick scatter:', ind, np.take(dat_raw.mpltime, ind), np.take(dat_raw.u, ind))"
   ]
  },
  {
   "cell_type": "code",
   "execution_count": 7,
   "metadata": {
    "collapsed": true
   },
   "outputs": [],
   "source": [
    "# A class that will downsample the data and recompute when zoomed.\n",
    "class DataDisplayDownsampler(object):\n",
    "    def __init__(self, xdata, ydata):\n",
    "        self.origYData = ydata\n",
    "        self.origXData = xdata\n",
    "        self.ratio = 5\n",
    "        self.delta = xdata[-1] - xdata[0]\n",
    "\n",
    "    def downsample(self, xstart, xend):\n",
    "        # Very simple downsampling that takes the points within the range\n",
    "        # and picks every Nth point\n",
    "        mask = (self.origXData > xstart) & (self.origXData < xend)\n",
    "        xdata = self.origXData[mask]\n",
    "        xdata = xdata[::self.ratio]\n",
    "\n",
    "        ydata = self.origYData[mask]\n",
    "        ydata = ydata[::self.ratio]\n",
    "\n",
    "        return xdata, ydata\n",
    "    \n",
    "    def update(self, ax):\n",
    "        # Update the line\n",
    "        lims = ax.viewLim\n",
    "        if np.abs(lims.width - self.delta) > 1e-8:\n",
    "            self.delta = lims.width\n",
    "            xstart, xend = lims.intervalx\n",
    "            self.line.set_data(*self.downsample(xstart, xend))\n",
    "            ax.figure.canvas.draw_idle()"
   ]
  },
  {
   "cell_type": "code",
   "execution_count": 8,
   "metadata": {
    "collapsed": false
   },
   "outputs": [],
   "source": [
    "d = DataDisplayDownsampler(dat_raw.mpltime, dat_raw.u)"
   ]
  },
  {
   "cell_type": "code",
   "execution_count": 13,
   "metadata": {
    "collapsed": false
   },
   "outputs": [
    {
     "name": "stdout",
     "output_type": "stream",
     "text": [
      "Warning: Cannot change to a different GUI toolkit: notebook. Using qt5 instead.\n"
     ]
    }
   ],
   "source": [
    "%matplotlib notebook\n",
    "\n",
    "fig, ax = plt.subplots()\n",
    "plt.switch_backend\n",
    "# Hook up the line\n",
    "d.line, = ax.plot(dat_raw.mpltime, dat_raw.u, 'o-')\n",
    "ax.set_autoscale_on(False)  # Otherwise, infinite loop\n",
    "\n",
    "# Connect for changing the view limits\n",
    "ax.callbacks.connect('xlim_changed', d.update)\n",
    "\n",
    "plt.show()"
   ]
  },
  {
   "cell_type": "code",
   "execution_count": 9,
   "metadata": {
    "collapsed": false
   },
   "outputs": [
    {
     "data": {
      "text/plain": [
       "[735729.4482, 735731.305]"
      ]
     },
     "execution_count": 9,
     "metadata": {},
     "output_type": "execute_result"
    }
   ],
   "source": [
    "t_range_start = .0082 + 7.3572944e5\n",
    "t_range_end = .005 + 7.357313e5\n",
    "t_range = [t_range_start, t_range_end]\n",
    "t_range"
   ]
  },
  {
   "cell_type": "code",
   "execution_count": 19,
   "metadata": {
    "collapsed": false
   },
   "outputs": [
    {
     "name": "stdout",
     "output_type": "stream",
     "text": [
      "None\n"
     ]
    }
   ],
   "source": [
    "print(os.environ.get('QT_API'))"
   ]
  },
  {
   "cell_type": "code",
   "execution_count": null,
   "metadata": {
    "collapsed": true
   },
   "outputs": [],
   "source": []
  }
 ],
 "metadata": {
  "kernelspec": {
   "display_name": "Python 2",
   "language": "python",
   "name": "python2"
  },
  "language_info": {
   "codemirror_mode": {
    "name": "ipython",
    "version": 2
   },
   "file_extension": ".py",
   "mimetype": "text/x-python",
   "name": "python",
   "nbconvert_exporter": "python",
   "pygments_lexer": "ipython2",
   "version": "2.7.13"
  }
 },
 "nbformat": 4,
 "nbformat_minor": 2
}
